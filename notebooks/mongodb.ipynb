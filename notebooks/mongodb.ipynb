{
 "cells": [
  {
   "cell_type": "code",
   "execution_count": 1,
   "metadata": {},
   "outputs": [],
   "source": [
    "from pymongo import MongoClient\n",
    "import requests\n",
    "import pandas as pd\n",
    "import sys\n",
    "\n",
    "sys.path.append(\"../\")"
   ]
  },
  {
   "cell_type": "code",
   "execution_count": 2,
   "metadata": {},
   "outputs": [
    {
     "data": {
      "text/plain": [
       "['/home/patricia/Documentos/Ironhack/proyectos/api-sentiment-project/notebooks',\n",
       " '/usr/lib/python38.zip',\n",
       " '/usr/lib/python3.8',\n",
       " '/usr/lib/python3.8/lib-dynload',\n",
       " '',\n",
       " '/home/patricia/.local/lib/python3.8/site-packages',\n",
       " '/usr/local/lib/python3.8/dist-packages',\n",
       " '/usr/lib/python3/dist-packages',\n",
       " '/home/patricia/.local/lib/python3.8/site-packages/IPython/extensions',\n",
       " '/home/patricia/.ipython',\n",
       " '../']"
      ]
     },
     "execution_count": 2,
     "metadata": {},
     "output_type": "execute_result"
    }
   ],
   "source": [
    "sys.path"
   ]
  },
  {
   "cell_type": "code",
   "execution_count": 3,
   "metadata": {},
   "outputs": [],
   "source": [
    "conn = MongoClient(\"localhost:27017\")"
   ]
  },
  {
   "cell_type": "code",
   "execution_count": 4,
   "metadata": {},
   "outputs": [
    {
     "data": {
      "text/plain": [
       "['HP',\n",
       " 'admin',\n",
       " 'config',\n",
       " 'friends',\n",
       " 'ironhack',\n",
       " 'local',\n",
       " 'project_game',\n",
       " 'project_name']"
      ]
     },
     "execution_count": 4,
     "metadata": {},
     "output_type": "execute_result"
    }
   ],
   "source": [
    "conn.list_database_names()"
   ]
  },
  {
   "cell_type": "code",
   "execution_count": 5,
   "metadata": {},
   "outputs": [],
   "source": [
    "db = conn.get_database(\"friends\")"
   ]
  },
  {
   "cell_type": "code",
   "execution_count": 6,
   "metadata": {},
   "outputs": [
    {
     "data": {
      "text/plain": [
       "['phrase', 'user', 'chats']"
      ]
     },
     "execution_count": 6,
     "metadata": {},
     "output_type": "execute_result"
    }
   ],
   "source": [
    "db.list_collection_names()"
   ]
  },
  {
   "cell_type": "code",
   "execution_count": 39,
   "metadata": {},
   "outputs": [
    {
     "data": {
      "text/plain": [
       "Collection(Database(MongoClient(host=['localhost:27017'], document_class=dict, tz_aware=False, connect=True), 'friends'), 'user')"
      ]
     },
     "execution_count": 39,
     "metadata": {},
     "output_type": "execute_result"
    }
   ],
   "source": [
    "\n",
    "db.create_collection(\"user\")"
   ]
  },
  {
   "cell_type": "code",
   "execution_count": 26,
   "metadata": {},
   "outputs": [
    {
     "data": {
      "text/plain": [
       "['phrase', 'chats', 'user']"
      ]
     },
     "execution_count": 26,
     "metadata": {},
     "output_type": "execute_result"
    }
   ],
   "source": [
    "db.list_collection_names()"
   ]
  },
  {
   "cell_type": "code",
   "execution_count": 7,
   "metadata": {},
   "outputs": [],
   "source": [
    "col_phrase = db['phrase']"
   ]
  },
  {
   "cell_type": "code",
   "execution_count": 36,
   "metadata": {},
   "outputs": [],
   "source": [
    "col_chat = db['chats']"
   ]
  },
  {
   "cell_type": "code",
   "execution_count": 45,
   "metadata": {},
   "outputs": [],
   "source": [
    "col_user = db['user']"
   ]
  },
  {
   "cell_type": "code",
   "execution_count": 21,
   "metadata": {},
   "outputs": [
    {
     "name": "stderr",
     "output_type": "stream",
     "text": [
      "b'Skipping line 3: expected 3 fields, saw 8\\nSkipping line 4: expected 3 fields, saw 6\\nSkipping line 5: expected 3 fields, saw 4\\nSkipping line 6: expected 3 fields, saw 4\\nSkipping line 7: expected 3 fields, saw 5\\nSkipping line 13: expected 3 fields, saw 4\\nSkipping line 14: expected 3 fields, saw 5\\nSkipping line 16: expected 3 fields, saw 5\\nSkipping line 17: expected 3 fields, saw 4\\nSkipping line 18: expected 3 fields, saw 5\\nSkipping line 19: expected 3 fields, saw 4\\nSkipping line 21: expected 3 fields, saw 4\\nSkipping line 23: expected 3 fields, saw 9\\nSkipping line 26: expected 3 fields, saw 6\\nSkipping line 27: expected 3 fields, saw 10\\nSkipping line 28: expected 3 fields, saw 4\\nSkipping line 29: expected 3 fields, saw 8\\nSkipping line 30: expected 3 fields, saw 4\\nSkipping line 32: expected 3 fields, saw 4\\nSkipping line 33: expected 3 fields, saw 5\\nSkipping line 38: expected 3 fields, saw 4\\nSkipping line 39: expected 3 fields, saw 6\\nSkipping line 42: expected 3 fields, saw 4\\nSkipping line 48: expected 3 fields, saw 6\\n'\n"
     ]
    }
   ],
   "source": [
    "df = pd.read_csv('phrases.csv',header=0,error_bad_lines=False)"
   ]
  },
  {
   "cell_type": "code",
   "execution_count": 26,
   "metadata": {},
   "outputs": [
    {
     "data": {
      "text/plain": [
       "23"
      ]
     },
     "execution_count": 26,
     "metadata": {},
     "output_type": "execute_result"
    }
   ],
   "source": [
    "df.shape[0]\n"
   ]
  },
  {
   "cell_type": "code",
   "execution_count": 29,
   "metadata": {},
   "outputs": [
    {
     "data": {
      "text/plain": [
       "{'chats': 'boys',\n",
       " 'character': 'Ros',\n",
       " 'phrase': ' I remember the moonlight coming through the window- and her face had the most incredible glow.'}"
      ]
     },
     "execution_count": 29,
     "metadata": {},
     "output_type": "execute_result"
    }
   ],
   "source": [
    "\n",
    "phrases = []\n",
    "for a in range(df.shape[0]):\n",
    "    phrases.append(dict(df.loc[a]))\n",
    "phrases[0]"
   ]
  },
  {
   "cell_type": "code",
   "execution_count": 28,
   "metadata": {},
   "outputs": [],
   "source": [
    "url = \"http://localhost:5000/new/phrase\""
   ]
  },
  {
   "cell_type": "code",
   "execution_count": 31,
   "metadata": {},
   "outputs": [],
   "source": [
    "for ph in phrases:\n",
    "    requests.post(url, data=ph)"
   ]
  },
  {
   "cell_type": "code",
   "execution_count": 35,
   "metadata": {},
   "outputs": [
    {
     "data": {
      "text/plain": [
       "37"
      ]
     },
     "execution_count": 35,
     "metadata": {},
     "output_type": "execute_result"
    }
   ],
   "source": [
    "len(list(col_phrase.find()))"
   ]
  },
  {
   "cell_type": "code",
   "execution_count": 44,
   "metadata": {},
   "outputs": [
    {
     "data": {
      "text/plain": [
       "[{'chat': 'bros'}, {'chat': 'girls'}, {'chat': 'boys'}, {'chat': 'friends'}]"
      ]
     },
     "execution_count": 44,
     "metadata": {},
     "output_type": "execute_result"
    }
   ],
   "source": [
    "list(col_chat.find({},{\"_id\":0, \"participants\":0}))"
   ]
  },
  {
   "cell_type": "code",
   "execution_count": 46,
   "metadata": {},
   "outputs": [
    {
     "data": {
      "text/plain": [
       "[{'character': 'Monica'},\n",
       " {'character': 'Rachel'},\n",
       " {'character': 'Ros'},\n",
       " {'character': 'Phoebe'},\n",
       " {'character': 'Joey'},\n",
       " {'character': 'Chandler'}]"
      ]
     },
     "execution_count": 46,
     "metadata": {},
     "output_type": "execute_result"
    }
   ],
   "source": [
    "list(col_user.find({},{\"_id\":0}))"
   ]
  }
 ],
 "metadata": {
  "kernelspec": {
   "display_name": "Python 3",
   "language": "python",
   "name": "python3"
  },
  "language_info": {
   "codemirror_mode": {
    "name": "ipython",
    "version": 3
   },
   "file_extension": ".py",
   "mimetype": "text/x-python",
   "name": "python",
   "nbconvert_exporter": "python",
   "pygments_lexer": "ipython3",
   "version": "3.8.5"
  }
 },
 "nbformat": 4,
 "nbformat_minor": 4
}
